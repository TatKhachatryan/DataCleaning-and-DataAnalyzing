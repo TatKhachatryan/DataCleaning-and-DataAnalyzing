{
 "cells": [
  {
   "cell_type": "markdown",
   "id": "db1719a7",
   "metadata": {},
   "source": [
    "## Table Content:\n",
    "\n",
    "#### 1. Explore the data\n",
    "#### 2. Fix missing values\n",
    "#### 3. Fix incorrect values\n",
    "#### 4. Fix incorrect values ('Country') using FuzzyWuzzy package (Manual corrections for the column 'Country')"
   ]
  },
  {
   "cell_type": "code",
   "execution_count": 269,
   "id": "6e5c5d83",
   "metadata": {},
   "outputs": [
    {
     "data": {
      "text/html": [
       "<div>\n",
       "<style scoped>\n",
       "    .dataframe tbody tr th:only-of-type {\n",
       "        vertical-align: middle;\n",
       "    }\n",
       "\n",
       "    .dataframe tbody tr th {\n",
       "        vertical-align: top;\n",
       "    }\n",
       "\n",
       "    .dataframe thead th {\n",
       "        text-align: right;\n",
       "    }\n",
       "</style>\n",
       "<table border=\"1\" class=\"dataframe\">\n",
       "  <thead>\n",
       "    <tr style=\"text-align: right;\">\n",
       "      <th></th>\n",
       "      <th>Timestamp</th>\n",
       "      <th>How old are you?</th>\n",
       "      <th>Industry</th>\n",
       "      <th>Job title</th>\n",
       "      <th>Additional context on job title</th>\n",
       "      <th>Annual salary</th>\n",
       "      <th>Other monetary comp</th>\n",
       "      <th>Currency</th>\n",
       "      <th>Currency - other</th>\n",
       "      <th>Additional context on income</th>\n",
       "      <th>Country</th>\n",
       "      <th>State</th>\n",
       "      <th>City</th>\n",
       "      <th>Overall years of professional experience</th>\n",
       "      <th>Years of experience in field</th>\n",
       "      <th>Highest level of education completed</th>\n",
       "      <th>Gender</th>\n",
       "      <th>Race</th>\n",
       "    </tr>\n",
       "  </thead>\n",
       "  <tbody>\n",
       "    <tr>\n",
       "      <th>0</th>\n",
       "      <td>4/27/2021 11:02:10</td>\n",
       "      <td>25-34</td>\n",
       "      <td>Education (Higher Education)</td>\n",
       "      <td>Research and Instruction Librarian</td>\n",
       "      <td>NaN</td>\n",
       "      <td>55,000</td>\n",
       "      <td>0.0</td>\n",
       "      <td>USD</td>\n",
       "      <td>NaN</td>\n",
       "      <td>NaN</td>\n",
       "      <td>United States</td>\n",
       "      <td>Massachusetts</td>\n",
       "      <td>Boston</td>\n",
       "      <td>5-7 years</td>\n",
       "      <td>5-7 years</td>\n",
       "      <td>Master's degree</td>\n",
       "      <td>Woman</td>\n",
       "      <td>White</td>\n",
       "    </tr>\n",
       "    <tr>\n",
       "      <th>1</th>\n",
       "      <td>4/27/2021 11:02:22</td>\n",
       "      <td>25-34</td>\n",
       "      <td>Computing or Tech</td>\n",
       "      <td>Change &amp; Internal Communications Manager</td>\n",
       "      <td>NaN</td>\n",
       "      <td>54,600</td>\n",
       "      <td>4000.0</td>\n",
       "      <td>GBP</td>\n",
       "      <td>NaN</td>\n",
       "      <td>NaN</td>\n",
       "      <td>United Kingdom</td>\n",
       "      <td>NaN</td>\n",
       "      <td>Cambridge</td>\n",
       "      <td>8 - 10 years</td>\n",
       "      <td>5-7 years</td>\n",
       "      <td>College degree</td>\n",
       "      <td>Non-binary</td>\n",
       "      <td>White</td>\n",
       "    </tr>\n",
       "    <tr>\n",
       "      <th>2</th>\n",
       "      <td>4/27/2021 11:02:38</td>\n",
       "      <td>25-34</td>\n",
       "      <td>Accounting, Banking &amp; Finance</td>\n",
       "      <td>Marketing Specialist</td>\n",
       "      <td>NaN</td>\n",
       "      <td>34,000</td>\n",
       "      <td>NaN</td>\n",
       "      <td>USD</td>\n",
       "      <td>NaN</td>\n",
       "      <td>NaN</td>\n",
       "      <td>US</td>\n",
       "      <td>Tennessee</td>\n",
       "      <td>Chattanooga</td>\n",
       "      <td>2 - 4 years</td>\n",
       "      <td>2 - 4 years</td>\n",
       "      <td>College degree</td>\n",
       "      <td>Woman</td>\n",
       "      <td>White</td>\n",
       "    </tr>\n",
       "  </tbody>\n",
       "</table>\n",
       "</div>"
      ],
      "text/plain": [
       "            Timestamp How old are you?                       Industry  \\\n",
       "0  4/27/2021 11:02:10            25-34   Education (Higher Education)   \n",
       "1  4/27/2021 11:02:22            25-34              Computing or Tech   \n",
       "2  4/27/2021 11:02:38            25-34  Accounting, Banking & Finance   \n",
       "\n",
       "                                  Job title Additional context on job title  \\\n",
       "0        Research and Instruction Librarian                             NaN   \n",
       "1  Change & Internal Communications Manager                             NaN   \n",
       "2                      Marketing Specialist                             NaN   \n",
       "\n",
       "  Annual salary  Other monetary comp Currency Currency - other  \\\n",
       "0        55,000                  0.0      USD              NaN   \n",
       "1        54,600               4000.0      GBP              NaN   \n",
       "2        34,000                  NaN      USD              NaN   \n",
       "\n",
       "  Additional context on income         Country          State         City  \\\n",
       "0                          NaN   United States  Massachusetts       Boston   \n",
       "1                          NaN  United Kingdom            NaN    Cambridge   \n",
       "2                          NaN              US      Tennessee  Chattanooga   \n",
       "\n",
       "  Overall years of professional experience Years of experience in field  \\\n",
       "0                                5-7 years                    5-7 years   \n",
       "1                             8 - 10 years                    5-7 years   \n",
       "2                              2 - 4 years                  2 - 4 years   \n",
       "\n",
       "  Highest level of education completed      Gender   Race  \n",
       "0                      Master's degree       Woman  White  \n",
       "1                       College degree  Non-binary  White  \n",
       "2                       College degree       Woman  White  "
      ]
     },
     "execution_count": 269,
     "metadata": {},
     "output_type": "execute_result"
    }
   ],
   "source": [
    "import pandas as pd\n",
    "import numpy as np\n",
    "import pyarrow\n",
    "import fastparquet\n",
    "import fuzzywuzzy\n",
    "from fuzzywuzzy import process\n",
    "import chardet\n",
    "\n",
    "\n",
    "data = pd.read_csv('Ask A Manager Salary Survey 2021 (Responses).csv')\n",
    "\n",
    "data.head(3)"
   ]
  },
  {
   "cell_type": "markdown",
   "id": "3e7f819f",
   "metadata": {},
   "source": [
    "## 1. Explore the data"
   ]
  },
  {
   "cell_type": "code",
   "execution_count": 211,
   "id": "f5558bb3",
   "metadata": {},
   "outputs": [
    {
     "data": {
      "text/plain": [
       "(27538, 18)"
      ]
     },
     "execution_count": 211,
     "metadata": {},
     "output_type": "execute_result"
    }
   ],
   "source": [
    "data.shape"
   ]
  },
  {
   "cell_type": "code",
   "execution_count": 212,
   "id": "dcaadfc7",
   "metadata": {},
   "outputs": [
    {
     "name": "stdout",
     "output_type": "stream",
     "text": [
      "<class 'pandas.core.frame.DataFrame'>\n",
      "RangeIndex: 27538 entries, 0 to 27537\n",
      "Data columns (total 18 columns):\n",
      " #   Column                                    Non-Null Count  Dtype  \n",
      "---  ------                                    --------------  -----  \n",
      " 0   Timestamp                                 27538 non-null  object \n",
      " 1   How old are you?                          27538 non-null  object \n",
      " 2   Industry                                  27470 non-null  object \n",
      " 3   Job title                                 27538 non-null  object \n",
      " 4   Additional context on job title           7131 non-null   object \n",
      " 5   Annual salary                             27538 non-null  object \n",
      " 6   Other monetary comp                       20416 non-null  float64\n",
      " 7   Currency                                  27538 non-null  object \n",
      " 8   Currency - other                          180 non-null    object \n",
      " 9   Additional context on income              3001 non-null   object \n",
      " 10  Country                                   27538 non-null  object \n",
      " 11  State                                     22637 non-null  object \n",
      " 12  City                                      27463 non-null  object \n",
      " 13  Overall years of professional experience  27538 non-null  object \n",
      " 14  Years of experience in field              27538 non-null  object \n",
      " 15  Highest level of education completed      27332 non-null  object \n",
      " 16  Gender                                    27375 non-null  object \n",
      " 17  Race                                      27380 non-null  object \n",
      "dtypes: float64(1), object(17)\n",
      "memory usage: 3.8+ MB\n"
     ]
    }
   ],
   "source": [
    "data.info()"
   ]
  },
  {
   "cell_type": "markdown",
   "id": "6fb61399",
   "metadata": {},
   "source": [
    "### Missing values"
   ]
  },
  {
   "cell_type": "code",
   "execution_count": 213,
   "id": "22b14d87",
   "metadata": {},
   "outputs": [
    {
     "data": {
      "text/plain": [
       "Timestamp                                       0\n",
       "How old are you?                                0\n",
       "Industry                                       68\n",
       "Job title                                       0\n",
       "Additional context on job title             20407\n",
       "Annual salary                                   0\n",
       "Other monetary comp                          7122\n",
       "Currency                                        0\n",
       "Currency - other                            27358\n",
       "Additional context on income                24537\n",
       "Country                                         0\n",
       "State                                        4901\n",
       "City                                           75\n",
       "Overall years of professional experience        0\n",
       "Years of experience in field                    0\n",
       "Highest level of education completed          206\n",
       "Gender                                        163\n",
       "Race                                          158\n",
       "dtype: int64"
      ]
     },
     "execution_count": 213,
     "metadata": {},
     "output_type": "execute_result"
    }
   ],
   "source": [
    "data.isnull().sum()"
   ]
  },
  {
   "cell_type": "markdown",
   "id": "582b7ded",
   "metadata": {},
   "source": [
    "## 2. Fix missing values"
   ]
  },
  {
   "cell_type": "markdown",
   "id": "442e1f02",
   "metadata": {},
   "source": [
    "#### columns: 'Industry', 'Highest level of education completed', 'Other monetary comp'\n",
    "\n",
    "I'm going to replaced NaN values by 0."
   ]
  },
  {
   "cell_type": "code",
   "execution_count": 214,
   "id": "0be19075",
   "metadata": {},
   "outputs": [],
   "source": [
    "data['Industry'] = data['Industry'].fillna(0)\n",
    "data['Highest level of education completed'] = data['Highest level of education completed'].fillna(0)\n",
    "data['Other monetary comp'] = data['Other monetary comp'].fillna(0)"
   ]
  },
  {
   "cell_type": "markdown",
   "id": "1a0185a9",
   "metadata": {},
   "source": [
    " #### columns: 'State', 'City', 'Gender', 'Race'\n",
    " \n",
    " Replace NaNs with the string 'NoDataAvailable'"
   ]
  },
  {
   "cell_type": "code",
   "execution_count": 215,
   "id": "bc854148",
   "metadata": {},
   "outputs": [],
   "source": [
    "data.loc[data['State'].isna(), 'State'] = 'NoDataAvailable'\n",
    "data.loc[data['City'].isna(), 'City'] = 'NoDataAvailable'\n",
    "data.loc[data['Gender'].isna(), 'Gender'] = 'NoDataAvailable'\n",
    "data.loc[data['Race'].isna(), 'Race'] = 'NoDataAvailable'"
   ]
  },
  {
   "cell_type": "markdown",
   "id": "a9a215bf",
   "metadata": {},
   "source": [
    "#### Drop values\n",
    "\n",
    "The columns 'Additional context on job title', 'Additional context on income' and 'Currency - other' barely have any values, so we gonna drop them."
   ]
  },
  {
   "cell_type": "code",
   "execution_count": 216,
   "id": "ba6f64c4",
   "metadata": {},
   "outputs": [],
   "source": [
    "data = data.drop(['Additional context on job title', 'Additional context on income','Currency - other'], axis=1)"
   ]
  },
  {
   "cell_type": "markdown",
   "id": "038f1954",
   "metadata": {},
   "source": [
    "## 3. Fix incorrect values"
   ]
  },
  {
   "cell_type": "markdown",
   "id": "5e9473b5",
   "metadata": {},
   "source": [
    "#### column: 'Gender'"
   ]
  },
  {
   "cell_type": "code",
   "execution_count": 217,
   "id": "4c9378bf",
   "metadata": {},
   "outputs": [
    {
     "data": {
      "text/plain": [
       "array(['Woman', 'Non-binary', 'Man', 'NoDataAvailable',\n",
       "       'Other or prefer not to answer', 'Prefer not to answer'],\n",
       "      dtype=object)"
      ]
     },
     "execution_count": 217,
     "metadata": {},
     "output_type": "execute_result"
    }
   ],
   "source": [
    "data['Gender'].unique()"
   ]
  },
  {
   "cell_type": "code",
   "execution_count": 218,
   "id": "afcdbaca",
   "metadata": {},
   "outputs": [],
   "source": [
    "data['Gender'].replace({'Other or prefer not to answer': 'Prefer not to answer'}, inplace=True)"
   ]
  },
  {
   "cell_type": "code",
   "execution_count": 219,
   "id": "ad949bf9",
   "metadata": {},
   "outputs": [
    {
     "data": {
      "text/plain": [
       "array(['Woman', 'Non-binary', 'Man', 'NoDataAvailable',\n",
       "       'Prefer not to answer'], dtype=object)"
      ]
     },
     "execution_count": 219,
     "metadata": {},
     "output_type": "execute_result"
    }
   ],
   "source": [
    "data['Gender'].unique()"
   ]
  },
  {
   "cell_type": "markdown",
   "id": "88f717ff",
   "metadata": {},
   "source": [
    "#### column: 'Timestamp'"
   ]
  },
  {
   "cell_type": "code",
   "execution_count": 220,
   "id": "d26cb0ff",
   "metadata": {},
   "outputs": [
    {
     "data": {
      "text/plain": [
       "dtype('O')"
      ]
     },
     "execution_count": 220,
     "metadata": {},
     "output_type": "execute_result"
    }
   ],
   "source": [
    "data['Timestamp'].dtype"
   ]
  },
  {
   "cell_type": "code",
   "execution_count": 221,
   "id": "794f460a",
   "metadata": {},
   "outputs": [],
   "source": [
    "# convert to datetime type\n",
    "data['Timestamp'] = pd.to_datetime(data['Timestamp'])\n"
   ]
  },
  {
   "cell_type": "markdown",
   "id": "9d51f454",
   "metadata": {},
   "source": []
  },
  {
   "cell_type": "markdown",
   "id": "1281e09c",
   "metadata": {},
   "source": [
    "#### column: Years of experience in field"
   ]
  },
  {
   "cell_type": "code",
   "execution_count": 222,
   "id": "e8a561ae",
   "metadata": {},
   "outputs": [
    {
     "data": {
      "text/plain": [
       "11 - 20           6461\n",
       "5-7               6412\n",
       "2 - 4             6102\n",
       "8 - 10            4895\n",
       "21 - 30           1851\n",
       "1 year or less    1403\n",
       "31 - 40            376\n",
       "41  or more         38\n",
       "Name: Years of experience in field, dtype: int64"
      ]
     },
     "execution_count": 222,
     "metadata": {},
     "output_type": "execute_result"
    }
   ],
   "source": [
    "data['Years of experience in field'] = data['Years of experience in field'].str.replace('years', '')\n",
    "\n",
    "# and the other one\n",
    "data['Overall years of professional experience'] = data['Overall years of professional experience'].str.replace('years', '')\n",
    "\n",
    "data['Years of experience in field'].value_counts()"
   ]
  },
  {
   "cell_type": "markdown",
   "id": "9f96cbb9",
   "metadata": {},
   "source": [
    "#### column: 'How old are you?'"
   ]
  },
  {
   "cell_type": "code",
   "execution_count": 223,
   "id": "96814e19",
   "metadata": {},
   "outputs": [],
   "source": [
    "# change the column name from 'How old are you?' to 'Age Group'\n",
    "\n",
    "data.rename(columns={'How old are you?': 'Age Group'}, inplace=True)"
   ]
  },
  {
   "cell_type": "markdown",
   "id": "e8772ac1",
   "metadata": {},
   "source": [
    "## 4. Fix incorrect values ('Country')\n",
    "\n",
    "There are a lot of similar and random values in the 'Country' column. Lets fix this."
   ]
  },
  {
   "cell_type": "code",
   "execution_count": 224,
   "id": "c877afa0",
   "metadata": {},
   "outputs": [
    {
     "data": {
      "text/plain": [
       "array([' New Zealand', ' U.S.', ' US', ' United States',\n",
       "       '$2,175.84/year is deducted for benefits',\n",
       "       'ARGENTINA BUT MY ORG IS IN THAILAND', 'Afghanistan', 'Africa',\n",
       "       'America', 'Aotearoa New Zealand', 'Argentina', 'Australi',\n",
       "       'Australia', 'Australia ', 'Australian ', 'Austria',\n",
       "       'Austria, but I work remotely for a Dutch/British company',\n",
       "       'Bangladesh', 'Bangladesh ', 'Belgium', 'Belgium ', 'Bermuda',\n",
       "       'Brasil', 'Brazil', 'Brazil ', 'Britain ', 'Bulgaria', 'CANADA',\n",
       "       'CANADA ', 'California ', 'Cambodia', 'Can', 'Canad', 'Canada',\n",
       "       'Canada ', 'Canada and USA', 'Canada, Ottawa, ontario', 'Canadw',\n",
       "       'Canadá', 'Canda', 'Catalonia', 'Cayman Islands', 'Chile', 'China',\n",
       "       'Colombia', 'Company in Germany. I work from Pakistan.', 'Congo',\n",
       "       'Contracts', 'Costa Rica', \"Cote d'Ivoire\", 'Croatia ', 'Csnada',\n",
       "       'Cuba', 'Currently finance', 'Cyprus', 'Czech Republic',\n",
       "       'Czech Republic ', 'Czech republic', 'Czechia', 'Danmark',\n",
       "       'Denmark', 'Denmark ', 'ENGLAND', 'Ecuador', 'England', 'England ',\n",
       "       'England, Gb', 'England, UK', 'England, UK.',\n",
       "       'England, United Kingdom', 'England, United Kingdom ',\n",
       "       'England/UK', 'Englang', 'Eritrea', 'Estonia', 'FRANCE', 'Finland',\n",
       "       'For the United States government, but posted overseas', 'France',\n",
       "       'France ', 'From New Zealand but on projects across APAC',\n",
       "       'From Romania, but for an US based company', 'Germany', 'Germany ',\n",
       "       'Ghana', 'Global', 'Great Britain', 'Great Britain ', 'Greece',\n",
       "       'Hartford', 'Hong Kong', 'Hong Kong ', 'Hungary',\n",
       "       'I am located in Canada but I work for a company in the US',\n",
       "       \"I earn commission on sales. If I meet quota, I'm guaranteed another 16k min. Last year i earned an additional 27k. It's not uncommon for people in my space to earn 100k+ after commission. \",\n",
       "       'I was brought in on this salary to help with the EHR and very quickly was promoted to current position but compensation was not altered. ',\n",
       "       'I work for a UAE-based organization, though I am personally in the US.',\n",
       "       \"I work for an US based company but I'm from Argentina.\", 'I.S.',\n",
       "       'IS', 'ISA', 'India', 'Indonesia', 'International ', 'Ireland',\n",
       "       'Ireland ', 'Isle of Man', 'Israel', 'Italy', 'Italy (South)',\n",
       "       'Jamaica', 'Japan', 'Japan ', 'Japan, US Gov position',\n",
       "       'Jersey, Channel islands', 'Jordan', 'Kenya', 'Kuwait', 'Latvia',\n",
       "       'Liechtenstein', 'Lithuania', 'Luxembourg', 'Luxemburg',\n",
       "       'Mainland China', 'Malaysia', 'Malaysia ', 'Malta', 'Mexico',\n",
       "       'Mexico ', 'Morocco', 'México', 'NL', 'NZ', 'Nederland',\n",
       "       'Netherlands', 'Netherlands ', 'New Zealand', 'New Zealand ',\n",
       "       'New Zealand Aotearoa', 'New zealand', 'Nigeria',\n",
       "       'Northern Ireland', 'Northern Ireland ',\n",
       "       'Northern Ireland, United Kingdom', 'Norway', 'Norway ',\n",
       "       'Pakistan', 'Panamá', 'Philippines', 'Poland', 'Policy',\n",
       "       'Portugal', 'Portugal ', 'Puerto Rico', 'Puerto Rico ', 'Qatar',\n",
       "       'Remote', 'Remote (philippines)', 'Romania', 'Russia ', 'Rwanda',\n",
       "       'SWITZERLAND', 'San Francisco', 'Saudi Arabia', 'Scotland',\n",
       "       'Scotland ', 'Scotland, UK', 'Serbia', 'Sierra Leone', 'Singapore',\n",
       "       'Singapore ', 'Slovakia', 'Slovenia', 'Somalia', 'South Africa',\n",
       "       'South Africa ', 'South Korea', 'South Korea ', 'South africa',\n",
       "       'Spain', 'Spain ', 'Sri Lanka', 'Sri lanka', 'Sweden', 'Sweden ',\n",
       "       'Switzerland', 'Switzerland ', 'Taiwan', 'Thailand',\n",
       "       'The Bahamas ', 'The Netherlands', 'The Netherlands ', 'The US',\n",
       "       'The United States', 'The netherlands', 'Trinidad and Tobago',\n",
       "       'Turkey', 'U. S ', 'U. S.', 'U. S. ', 'U.A.', 'U.K', 'U.K.',\n",
       "       'U.K. ', 'U.K. (northern England)', 'U.S', 'U.S.', 'U.S. ',\n",
       "       'U.S.A', 'U.S.A.', 'U.S.A. ', 'U.S>', 'U.SA', 'U.s.', 'U.s.a.',\n",
       "       'UA', 'UAE', 'UK', 'UK ', 'UK (England)', 'UK (Northern Ireland)',\n",
       "       'UK for U.S. company', 'UK, but for globally fully remote company',\n",
       "       'UK, remote', 'UNITED STATES', 'UNited States', 'US', 'US ',\n",
       "       'US govt employee overseas, country withheld', 'US of A', 'USA',\n",
       "       'USA ', 'USA (company is based in a US territory, I work remote)',\n",
       "       'USA tomorrow ', \"USA, but for foreign gov't\",\n",
       "       'USA-- Virgin Islands', 'USAB', 'USD', 'USS', 'USaa', 'UXZ',\n",
       "       'Uganda', 'Uk', 'Uk ', 'Ukraine ', 'Uniited States',\n",
       "       'Unite States', 'United  States', 'United Arab Emirates ',\n",
       "       'United Kindom', 'United Kingdom', 'United Kingdom ',\n",
       "       'United Kingdom (England)', 'United Kingdom.', 'United Kingdomk',\n",
       "       'United STates', 'United Sates', 'United Sates of America',\n",
       "       'United Stares', 'United Stares ', 'United State',\n",
       "       'United State of America', 'United Statea', 'United Stated',\n",
       "       'United Stateds', 'United Statees', 'United States',\n",
       "       'United States ',\n",
       "       'United States (I work from home and my clients are all over the US/Canada/PR',\n",
       "       'United States Of America', 'United States is America',\n",
       "       'United States of America', 'United States of America ',\n",
       "       'United States of American', 'United States of American ',\n",
       "       'United States of Americas', 'United States of america',\n",
       "       'United States of america ', 'United States- Puerto Rico',\n",
       "       'United Statesp', 'United Statss', 'United Stattes',\n",
       "       'United Statues', 'United Status', 'United Statws', 'United Sttes',\n",
       "       'United kingdom', 'United kingdom ', 'United states',\n",
       "       'United states ', 'United states of America',\n",
       "       'United states of America ', 'United states of america',\n",
       "       'United statew', 'United y', 'UnitedStates', 'Uniteed States',\n",
       "       'Unitef Stated', 'Uniter Statez', 'Unites States',\n",
       "       'Unites States ', 'Unites kingdom ', 'Unites states ',\n",
       "       'Unitied States', 'Uniyed states', 'Uniyes States', 'Unted States',\n",
       "       'Untied States', 'Uruguay', 'Us', 'Us ', 'UsA', 'Usa', 'Usa ',\n",
       "       'Usat', 'Vietnam', 'Virginia', 'Wales', 'Wales (UK)',\n",
       "       'Wales (United Kingdom)', 'Wales, UK',\n",
       "       \"We don't get raises, we get quarterly bonuses, but they periodically asses income in the area you work, so I got a raise because a 3rd party assessment showed I was paid too little for the area we were located\",\n",
       "       'Worldwide (based in US but short term trips aroudn the world)',\n",
       "       'Y', 'Zimbabwe', 'america', 'australia',\n",
       "       'bonus based on meeting yearly goals set w/ my supervisor',\n",
       "       'canada', 'croatia', 'czech republic', 'denmark', 'england',\n",
       "       'europe', 'finland', 'france', 'germany', 'hong konh', 'ireland',\n",
       "       'japan', 'n/a (remote from wherever I want)', 'na', 'netherlands',\n",
       "       'new zealand', 'singapore', 'spain', 'switzerland',\n",
       "       'the Netherlands', 'the netherlands', 'u.s.', 'uS', 'uSA', 'uk',\n",
       "       'united States', 'united kingdom', 'united stated',\n",
       "       'united states', 'united states ', 'united states of america',\n",
       "       'us', 'usa', 'usa ', '🇺🇸 '], dtype=object)"
      ]
     },
     "execution_count": 224,
     "metadata": {},
     "output_type": "execute_result"
    }
   ],
   "source": [
    "data_countries = data['Country'].unique()\n",
    "data_countries.sort()\n",
    "data_countries"
   ]
  },
  {
   "cell_type": "code",
   "execution_count": 225,
   "id": "f7b7dc87",
   "metadata": {},
   "outputs": [],
   "source": [
    "# convert the values to lowercase\n",
    "data['Country'] = data['Country'].str.lower()\n",
    "\n",
    "# remove trailing white spaces\n",
    "data['Country'] = data['Country'].str.strip()"
   ]
  },
  {
   "cell_type": "code",
   "execution_count": 226,
   "id": "867a9fd9",
   "metadata": {},
   "outputs": [],
   "source": [
    "data_countries = data['Country'].unique()\n",
    "data_countries.sort()\n",
    "# data_countries"
   ]
  },
  {
   "cell_type": "markdown",
   "id": "8f2c9329",
   "metadata": {},
   "source": [
    "### String Matching with FuzzyWuzzy\n",
    "\n",
    "I'm gonna use the FuzzyWuzzy library for string matches.\n",
    "\n",
    "#### Canada"
   ]
  },
  {
   "cell_type": "code",
   "execution_count": 227,
   "id": "1c6c58ca",
   "metadata": {},
   "outputs": [
    {
     "data": {
      "text/plain": [
       "[('canada', 100),\n",
       " ('canad', 91),\n",
       " ('canadá', 91),\n",
       " ('canda', 91),\n",
       " ('canadw', 83),\n",
       " ('csnada', 83),\n",
       " ('can', 67),\n",
       " ('rwanda', 67),\n",
       " ('uganda', 67),\n",
       " ('canada and usa', 60)]"
      ]
     },
     "execution_count": 227,
     "metadata": {},
     "output_type": "execute_result"
    }
   ],
   "source": [
    "# get the top 10 closest matches to \"canada\"\n",
    "matches = process.extract('canada', data_countries, limit=10, scorer=fuzzywuzzy.fuzz.token_sort_ratio) \n",
    "\n",
    "matches"
   ]
  },
  {
   "cell_type": "markdown",
   "id": "f8bfb774",
   "metadata": {},
   "source": [
    "So I need some function to able to replace matching strings."
   ]
  },
  {
   "cell_type": "code",
   "execution_count": 228,
   "id": "4eb5591d",
   "metadata": {},
   "outputs": [],
   "source": [
    "# I took this function from Zeeshan Usmani\n",
    "\n",
    "def replace_matches_in_column(df, column, string_to_match, min_ratio = 47):\n",
    "    # get a list of unique strings\n",
    "    strings = df[column].unique()\n",
    "    \n",
    "    # get the top 10 closest matches to our input string\n",
    "    matches = fuzzywuzzy.process.extract(string_to_match, strings, \n",
    "                                         limit=10, scorer=fuzzywuzzy.fuzz.token_sort_ratio)\n",
    "\n",
    "    # only get matches with a ratio > 90\n",
    "    close_matches = [matches[0] for matches in matches if matches[1] >= min_ratio]\n",
    "    \n",
    "    # get the rows of all the close matches in our dataframe\n",
    "    rows_with_matches = df[column].isin(close_matches)\n",
    "\n",
    "    # replace all rows with close matches with the input matches \n",
    "    df.loc[rows_with_matches, column] = string_to_match\n",
    "    \n",
    "    # let us know the function's done\n",
    "    print(\"All done!\")"
   ]
  },
  {
   "cell_type": "code",
   "execution_count": 229,
   "id": "9ac08548",
   "metadata": {},
   "outputs": [
    {
     "name": "stdout",
     "output_type": "stream",
     "text": [
      "All done!\n"
     ]
    }
   ],
   "source": [
    "replace_matches_in_column(df=data, column='Country', string_to_match='canada', min_ratio = 80)\n",
    "\n",
    "data_countries = data['Country'].unique()\n",
    "# data_countries.sort()\n",
    "# data_countries"
   ]
  },
  {
   "cell_type": "markdown",
   "id": "7ac3a1f2",
   "metadata": {},
   "source": [
    "#### usa"
   ]
  },
  {
   "cell_type": "code",
   "execution_count": 230,
   "id": "f3aa999a",
   "metadata": {},
   "outputs": [
    {
     "data": {
      "text/plain": [
       "[('u.s.a', 100),\n",
       " ('u.s.a.', 100),\n",
       " ('u.s.', 75),\n",
       " ('u.s>', 75),\n",
       " ('u.s', 75),\n",
       " ('u. s.', 75),\n",
       " ('u.a.', 75),\n",
       " ('u. s', 75),\n",
       " ('us of a', 67),\n",
       " ('u.sa', 67)]"
      ]
     },
     "execution_count": 230,
     "metadata": {},
     "output_type": "execute_result"
    }
   ],
   "source": [
    "# get the top 10 closest matches to \"u.s.a\"\n",
    "matches = process.extract('u.s.a', data_countries, limit=10, scorer=fuzzywuzzy.fuzz.token_sort_ratio) \n",
    "\n",
    "matches"
   ]
  },
  {
   "cell_type": "code",
   "execution_count": 231,
   "id": "ea3b5988",
   "metadata": {},
   "outputs": [
    {
     "name": "stdout",
     "output_type": "stream",
     "text": [
      "All done!\n"
     ]
    }
   ],
   "source": [
    "replace_matches_in_column(df=data, column='Country', string_to_match='u.s.a', min_ratio = 67)"
   ]
  },
  {
   "cell_type": "code",
   "execution_count": 232,
   "id": "7e6e5a63",
   "metadata": {},
   "outputs": [],
   "source": [
    "data_countries = data['Country'].unique()\n",
    "# data_countries.sort()\n",
    "# data_countries"
   ]
  },
  {
   "cell_type": "code",
   "execution_count": 233,
   "id": "968d7048",
   "metadata": {},
   "outputs": [
    {
     "data": {
      "text/plain": [
       "[('usa', 100),\n",
       " ('usab', 86),\n",
       " ('usat', 86),\n",
       " ('usaa', 86),\n",
       " ('us', 80),\n",
       " ('ua', 80),\n",
       " ('isa', 67),\n",
       " ('russia', 67),\n",
       " ('uss', 67),\n",
       " ('uae', 67)]"
      ]
     },
     "execution_count": 233,
     "metadata": {},
     "output_type": "execute_result"
    }
   ],
   "source": [
    "# get the top 10 closest matches to \"usa\"\n",
    "matches = process.extract('usa', data_countries, limit=10, scorer=fuzzywuzzy.fuzz.token_sort_ratio) \n",
    "\n",
    "matches"
   ]
  },
  {
   "cell_type": "code",
   "execution_count": 234,
   "id": "27afe54f",
   "metadata": {},
   "outputs": [
    {
     "name": "stdout",
     "output_type": "stream",
     "text": [
      "All done!\n"
     ]
    }
   ],
   "source": [
    "replace_matches_in_column(df=data, column='Country', string_to_match='usa', min_ratio = 66)\n",
    "\n",
    "data_countries = data['Country'].unique()\n",
    "# data_countries.sort()\n",
    "# data_countries"
   ]
  },
  {
   "cell_type": "code",
   "execution_count": 235,
   "id": "8e18e949",
   "metadata": {},
   "outputs": [
    {
     "data": {
      "text/plain": [
       "[('united states', 100),\n",
       " ('united  states', 100),\n",
       " ('united state', 96),\n",
       " ('united sates', 96),\n",
       " ('uniited states', 96),\n",
       " ('unted states', 96),\n",
       " ('united statesp', 96),\n",
       " ('united stattes', 96),\n",
       " ('united statees', 96),\n",
       " ('uniteed states', 96)]"
      ]
     },
     "execution_count": 235,
     "metadata": {},
     "output_type": "execute_result"
    }
   ],
   "source": [
    "# get the top 10 closest matches to \"united states\"\n",
    "matches = process.extract('united states', data_countries, limit=10, scorer=fuzzywuzzy.fuzz.token_sort_ratio) \n",
    "\n",
    "matches"
   ]
  },
  {
   "cell_type": "code",
   "execution_count": 236,
   "id": "7585481c",
   "metadata": {},
   "outputs": [
    {
     "name": "stdout",
     "output_type": "stream",
     "text": [
      "All done!\n"
     ]
    }
   ],
   "source": [
    "replace_matches_in_column(df=data, column='Country', string_to_match='united states', min_ratio = 96)\n",
    "\n",
    "data_countries = data['Country'].unique()\n",
    "# data_countries.sort()\n",
    "# data_countries"
   ]
  },
  {
   "cell_type": "markdown",
   "id": "1865486b",
   "metadata": {},
   "source": [
    "Now I'm gonna do the same thing for all incorrect 'united states' values multiple times, untill we get better results."
   ]
  },
  {
   "cell_type": "code",
   "execution_count": 237,
   "id": "7292194b",
   "metadata": {},
   "outputs": [
    {
     "name": "stdout",
     "output_type": "stream",
     "text": [
      "All done!\n"
     ]
    }
   ],
   "source": [
    "replace_matches_in_column(df=data, column='Country', string_to_match='united states', min_ratio = 92)\n",
    "\n",
    "data_countries = data['Country'].unique()\n",
    "# data_countries.sort()\n",
    "# data_countries"
   ]
  },
  {
   "cell_type": "code",
   "execution_count": 238,
   "id": "447010e0",
   "metadata": {},
   "outputs": [
    {
     "name": "stdout",
     "output_type": "stream",
     "text": [
      "All done!\n"
     ]
    }
   ],
   "source": [
    "# get the top 10 closest matches to \"united states\"\n",
    "matches = process.extract('united states', data_countries, limit=10, scorer=fuzzywuzzy.fuzz.token_sort_ratio) \n",
    "\n",
    "#matches\n",
    "\n",
    "replace_matches_in_column(df=data, column='Country', string_to_match='united states', min_ratio = 68)\n",
    "\n",
    "data_countries = data['Country'].unique()\n",
    "# data_countries.sort()\n",
    "# data_countries"
   ]
  },
  {
   "cell_type": "code",
   "execution_count": 239,
   "id": "e973a134",
   "metadata": {},
   "outputs": [
    {
     "data": {
      "text/plain": [
       "[('united states', 100),\n",
       " ('unitef stated', 85),\n",
       " ('united states of america', 70),\n",
       " ('united states is america', 70),\n",
       " ('united states of american', 68),\n",
       " ('united states of americas', 68),\n",
       " ('united states- puerto rico', 68),\n",
       " ('united state of america', 67),\n",
       " ('united sates of america', 67),\n",
       " ('united arab emirates', 67)]"
      ]
     },
     "execution_count": 239,
     "metadata": {},
     "output_type": "execute_result"
    }
   ],
   "source": [
    "# get the top 10 closest matches to \"united states\"\n",
    "matches = process.extract('united states', data_countries, limit=10, scorer=fuzzywuzzy.fuzz.token_sort_ratio) \n",
    "\n",
    "matches"
   ]
  },
  {
   "cell_type": "code",
   "execution_count": 240,
   "id": "067d38c7",
   "metadata": {},
   "outputs": [
    {
     "name": "stdout",
     "output_type": "stream",
     "text": [
      "All done!\n"
     ]
    }
   ],
   "source": [
    "replace_matches_in_column(df=data, column='Country', string_to_match='united states of america', min_ratio = 70)\n",
    "\n",
    "data_countries = data['Country'].unique()\n",
    "# data_countries.sort()\n",
    "# data_countries"
   ]
  },
  {
   "cell_type": "code",
   "execution_count": 241,
   "id": "6b44df38",
   "metadata": {},
   "outputs": [
    {
     "data": {
      "text/plain": [
       "[('united states of america', 100),\n",
       " ('united arab emirates', 64),\n",
       " ('unitef stated', 59),\n",
       " ('saudi arabia', 50),\n",
       " ('for the united states government, but posted overseas', 47),\n",
       " ('america', 45),\n",
       " ('south africa', 44),\n",
       " ('united kindom', 43),\n",
       " ('san francisco', 43),\n",
       " ('united kingdom', 42)]"
      ]
     },
     "execution_count": 241,
     "metadata": {},
     "output_type": "execute_result"
    }
   ],
   "source": [
    "# get the top 10 closest matches to \"united states of america\"\n",
    "matches = process.extract('united states of america', data_countries, limit=10, scorer=fuzzywuzzy.fuzz.token_sort_ratio) \n",
    "\n",
    "matches"
   ]
  },
  {
   "cell_type": "markdown",
   "id": "f335bd60",
   "metadata": {},
   "source": [
    "#### united kingdom"
   ]
  },
  {
   "cell_type": "code",
   "execution_count": 242,
   "id": "4b11e20c",
   "metadata": {},
   "outputs": [
    {
     "name": "stdout",
     "output_type": "stream",
     "text": [
      "All done!\n"
     ]
    }
   ],
   "source": [
    "# get the top 10 closest matches to \"united kingdom\"\n",
    "matches = process.extract('united kingdom', data_countries, limit=10, scorer=fuzzywuzzy.fuzz.token_sort_ratio) \n",
    "\n",
    "#matches\n",
    "\n",
    "replace_matches_in_column(df=data, column='Country', string_to_match='united kingdom', min_ratio=93)\n",
    "\n",
    "data_countries = data['Country'].unique()\n",
    "# data_countries.sort()\n",
    "# data_countries"
   ]
  },
  {
   "cell_type": "markdown",
   "id": "468c9a28",
   "metadata": {},
   "source": [
    "#### australia"
   ]
  },
  {
   "cell_type": "code",
   "execution_count": 243,
   "id": "4379831a",
   "metadata": {},
   "outputs": [
    {
     "name": "stdout",
     "output_type": "stream",
     "text": [
      "All done!\n"
     ]
    }
   ],
   "source": [
    "# get the top 10 closest matches to \"australia\"\n",
    "matches = process.extract('australia', data_countries, limit=10, scorer=fuzzywuzzy.fuzz.token_sort_ratio) \n",
    "\n",
    "#matches\n",
    "\n",
    "replace_matches_in_column(df=data, column='Country', string_to_match='australia', min_ratio=93)\n",
    "\n",
    "data_countries = data['Country'].unique()\n",
    "# data_countries.sort()\n",
    "# data_countries"
   ]
  },
  {
   "cell_type": "code",
   "execution_count": 244,
   "id": "bff1847e",
   "metadata": {},
   "outputs": [],
   "source": [
    "# convert the values to uppercase\n",
    "\n",
    "data['Country'] = data['Country'].str.title()\n"
   ]
  },
  {
   "cell_type": "code",
   "execution_count": 245,
   "id": "a67af9e0",
   "metadata": {},
   "outputs": [],
   "source": [
    "# let's delete rows that cointain no data about counrty\n",
    "\n",
    "no_country_values = data[(data['Country'] == 'N/A (Remote From Wherever I Want)') |\n",
    "                              (data['Country'] == 'From New Zealand But On Projects Across Apac') |\n",
    "                              (data['Country'] == 'I Was Brought In On This Salary To Help With The Ehr And Very Quickly Was Promoted To Current Position But Compensation Was Not Altered.') |\n",
    "                              (data['Country'] == \"I Earn Commission On Sales. If I Meet Quota, I'M Guaranteed Another 16K Min. Last Year I Earned An Additional 27K. It'S Not Uncommon For People In My Space To Earn 100K+ After Commission.\") |\n",
    "                              (data['Country'] == '$2,175.84/Year Is Deducted For Benefits') |\n",
    "                              (data['Country'] == 'Contracts') |\n",
    "                              (data['Country'] == 'Global') |\n",
    "                              (data['Country'] == 'International') |\n",
    "                              (data['Country'] == 'Na') |\n",
    "                              (data['Country'] == 'Policy') |\n",
    "                              (data['Country'] == 'United Y') |\n",
    "                              (data['Country'] == \"We Don'T Get Raises, We Get Quarterly Bonuses, But They Periodically Asses Income In The Area You Work, So I Got A Raise Because A 3Rd Party Assessment Showed I Was Paid Too Little For The Area We Were Located\") |\n",
    "                              (data['Country'] == 'Worldwide (Based In Us But Short Term Trips Aroudn The World)') |\n",
    "                              (data['Country'] == 'Canada And Usa') |\n",
    "                              (data['Country'] == 'I.S.') |\n",
    "                              (data['Country'] == 'Is') |\n",
    "                              (data['Country'] == 'Y') |\n",
    "                              (data['Country'] == 'united kingdom') |\n",
    "                              (data['Country'] == 'From Romania, But For An Us Based Company') |\n",
    "                              (data['Country'] == 'Bonus Based On Meeting Yearly Goals Set W/ My Supervisor')].index\n",
    "\n",
    "data.drop(no_country_values, inplace = True)"
   ]
  },
  {
   "cell_type": "code",
   "execution_count": null,
   "id": "51f07e56",
   "metadata": {},
   "outputs": [],
   "source": []
  },
  {
   "cell_type": "markdown",
   "id": "5e8f4774",
   "metadata": {},
   "source": [
    "## So Fuzzy package didn't correct 100% so I decided to manually do same changes:"
   ]
  },
  {
   "cell_type": "code",
   "execution_count": 255,
   "id": "a7511066",
   "metadata": {},
   "outputs": [],
   "source": [
    "data['Country'] = data['Country'].replace({'U.S.A' : 'USA',\n",
    "                                            'Uxz': 'USA',\n",
    "                                            'Virginia': 'USA',\n",
    "                                            'united states of america': 'USA', \n",
    "                                            'unitef stated': 'USA',\n",
    "                                            'usd': 'USA',\n",
    "                                            'america': 'USA',\n",
    "                                            '🇺🇸': 'USA',\n",
    "                                            'Us Govt Employee Overseas, Country Withheld': 'USA',\n",
    "                                            'Usa Tomorrow': 'USA',\n",
    "                                            'The Us': 'USA',\n",
    "                                            'Usa-- Virgin Islands': 'USA',\n",
    "                                            'San Francisco': 'USA',\n",
    "                                            'California': 'USA',\n",
    "                                            'Us Govt Employee Overseas, Country Withheld': 'USA',\n",
    "                                            'Usa (Company Is Based In A Us Territory, I Work Remote)': 'USA',\n",
    "                                            'United States (I Work From Home And My Clients Are All Over The Us/Canada/Pr': 'USA',\n",
    "                                            'Englang': 'united kingdom',\n",
    "                                            'United Kingdom (England)': 'united kingdom',\n",
    "                                            'Uk For U.S. Company': 'united kingdom',   \n",
    "                                            'u.k.': 'united kingdom', \n",
    "                                            'u.k': 'united kingdom',\n",
    "                                            'Wales': 'united kingdom',\n",
    "                                            'England': 'united kingdom',\n",
    "                                            'great britain': 'united kingdom',\n",
    "                                            'England/Uk': 'united kingdom',\n",
    "                                            'uk': 'united kingdom',\n",
    "                                            'Britain': 'united kingdom',\n",
    "                                            'Wales (United Kingdom)': 'united kingdom',\n",
    "                                            'Uk, Remote': 'united kingdom',\n",
    "                                            'Company In Germany. I Work From Pakistan.': 'Germany',\n",
    "                                            'I Work For A Uae-Based Organization, Though I Am Personally In The Us.': 'UAE',\n",
    "                                            'United Arab Emirates': 'UAE',\n",
    "                                            'Uk, But For Globally Fully Remote Company': 'united kingdom',\n",
    "                                            'Remote (Philippines)': 'Philippines',\n",
    "                                            'Italy (South)': 'Italy',\n",
    "                                            'Can': 'Canada',\n",
    "                                            'Canada, Ottawa, Ontario': 'Canada',\n",
    "                                            'I Am Located In Canada But I Work For A Company In The Us': 'Canada',\n",
    "                                            'Japan, Us Gov Position': 'Japan',\n",
    "                                            'Nederland': 'The Netherlands',\n",
    "                                            'Nl': 'The Netherlands',\n",
    "                                            'Hong Konh': 'Hong Kong',\n",
    "                                            'United States Of America': 'USA',\n",
    "                                            'United Kingdom': 'UK',\n",
    "                                            'united kingdom': 'UK',\n",
    "                                            'England, Uk.': 'UK',\n",
    "                                            'America' : 'USA',\n",
    "                                            'U.K.': 'UK',\n",
    "                                            'Uk': 'UK',\n",
    "                                            'U.K': 'UK',\n",
    "                                            'Wales, Uk': 'UK',\n",
    "                                            'Wales (Uk)':'UK',\n",
    "                                            'Currently Finance': 'France',\n",
    "                                            'New Zealand Aotearoa': 'New Zealand ',\n",
    "                                            'Netherlands': 'The Netherlands',\n",
    "                                            'Uk (Northern Ireland)': 'UK',\n",
    "                                            'Nz': 'New Zealand',\n",
    "                                            'For The United States Government, But Posted Overseas': 'USA',\n",
    "                                            'England, United Kingdom': 'UK',\n",
    "                                            'Uk (England)': 'UK',\n",
    "                                            'Northern Ireland, United Kingdom' : 'UK',\n",
    "                                            'Northern Ireland': 'UK',\n",
    "                                            'England, Uk': 'UK',\n",
    "                                            'Scotland, Uk': 'Scotland',\n",
    "                                            'Austria, But I Work Remotely For A Dutch/British Company': 'Austria',\n",
    "                                            'Unitef Stated': 'USA',\n",
    "                                            'Usd': 'USA',\n",
    "                                            'Aotearoa New Zealand': 'New Zealand',\n",
    "                                            \"Usa, But For Foreign Gov'T\": 'USA',\n",
    "                                            'England, Gb': 'UK',\n",
    "                                            'Unitedstates': 'USA',\n",
    "                                            'U.K. (Northern England)': 'UK',\n",
    "                                            'New Zealand  ': 'New Zealand ',\n",
    "                                            'Danmark': 'Denmark',\n",
    "                                            'Chile': 'Chili',\n",
    "                                            'Great Britain': 'UK',\n",
    "                                            'Hartford': 'USA',\n",
    "                                            'Isle Of Man': 'UK',\n",
    "                                             'Usa': 'USA',\n",
    "                                          \"I Work For An Us Based Company But I'M From Argentina.\": 'Argentina',\n",
    "                                           'Argentina But My Org Is In Thailand': 'Argentina',\n",
    "                                           'united kingdom': 'UK'\n",
    "                                          })"
   ]
  },
  {
   "cell_type": "code",
   "execution_count": 256,
   "id": "33c6d01a",
   "metadata": {},
   "outputs": [
    {
     "data": {
      "text/plain": [
       "array(['USA', 'UK', 'Canada', 'Scotland', 'The Netherlands', 'Australia',\n",
       "       'Spain', 'Finland', 'France', 'Germany', 'Ireland', 'India',\n",
       "       'Argentina', 'Denmark', 'Switzerland', 'Bermuda', 'Malaysia',\n",
       "       'Mexico', 'South Africa', 'Belgium', 'Sweden', 'Hong Kong',\n",
       "       'Kuwait', 'Norway', 'Sri Lanka', 'Greece', 'Japan', 'Austria',\n",
       "       'Brazil', 'Hungary', 'Luxembourg', 'Colombia', 'New Zealand',\n",
       "       'Trinidad And Tobago', 'Cayman Islands', 'Czech Republic',\n",
       "       'Czechia', 'Latvia', 'Puerto Rico', 'Rwanda', 'UAE', 'Bangladesh',\n",
       "       'Romania', 'Serbia', 'Philippines', 'Poland', 'Turkey',\n",
       "       'Catalonia', 'Italy', 'Jersey, Channel Islands', 'China',\n",
       "       'Afghanistan', 'Israel', 'New Zealand ', 'Mainland China',\n",
       "       'Taiwan', 'Cambodia', 'Vietnam', 'Remote', 'Singapore',\n",
       "       'South Korea', 'Thailand', 'Lithuania', 'Eritrea', 'Indonesia',\n",
       "       'Cuba', 'Slovenia', \"Cote D'Ivoire\", 'Somalia', 'Slovakia',\n",
       "       'Portugal', 'Sierra Leone', 'The Bahamas', 'Costa Rica', 'Chili',\n",
       "       'Qatar', 'Nigeria', 'Panamá', 'Congo', 'Uruguay', 'Pakistan',\n",
       "       'Brasil', 'Uganda', 'Malta', 'Saudi Arabia', 'Bulgaria', 'Estonia',\n",
       "       'Morocco', 'Africa', 'Ecuador', 'Zimbabwe', 'Ghana', 'Luxemburg',\n",
       "       'Croatia', 'Ukraine', 'Europe', 'México', 'Jamaica', 'Kenya',\n",
       "       'Jordan', 'Cyprus', 'Liechtenstein'], dtype=object)"
      ]
     },
     "execution_count": 256,
     "metadata": {},
     "output_type": "execute_result"
    }
   ],
   "source": [
    "# let's check\n",
    "data['Country'].unique()"
   ]
  },
  {
   "cell_type": "markdown",
   "id": "63ffb9a0",
   "metadata": {},
   "source": [
    "#### column: Annual salary"
   ]
  },
  {
   "cell_type": "code",
   "execution_count": 257,
   "id": "3d4abc4e",
   "metadata": {},
   "outputs": [
    {
     "data": {
      "text/plain": [
       "dtype('O')"
      ]
     },
     "execution_count": 257,
     "metadata": {},
     "output_type": "execute_result"
    }
   ],
   "source": [
    "data['Annual salary'].dtype"
   ]
  },
  {
   "cell_type": "code",
   "execution_count": 258,
   "id": "7dbb0113",
   "metadata": {},
   "outputs": [],
   "source": [
    "# let's convert to numeric value\n",
    "data['Annual salary'] = data['Annual salary'].str.replace(',', '')\n",
    "data['Annual salary'] = data['Annual salary'].astype(float)\n"
   ]
  },
  {
   "cell_type": "code",
   "execution_count": 259,
   "id": "084a2e4f",
   "metadata": {},
   "outputs": [
    {
     "data": {
      "text/plain": [
       "array(['USD', 'GBP', 'CAD', 'EUR', 'AUD/NZD', 'Other', 'CHF', 'ZAR',\n",
       "       'SEK', 'HKD', 'JPY'], dtype=object)"
      ]
     },
     "execution_count": 259,
     "metadata": {},
     "output_type": "execute_result"
    }
   ],
   "source": [
    "data['Currency'].unique()"
   ]
  },
  {
   "cell_type": "markdown",
   "id": "44f32e59",
   "metadata": {},
   "source": [
    "We have 10 different currencies and 1 'Other'. <br>\n",
    "It'll be better if we convert all the currencies into 1 currency (in this case to USD), but before that I'll drop the 'Other' values."
   ]
  },
  {
   "cell_type": "code",
   "execution_count": 260,
   "id": "975e529b",
   "metadata": {},
   "outputs": [],
   "source": [
    "data.drop(data[data['Currency']=='Other'].index, inplace=True)"
   ]
  },
  {
   "cell_type": "markdown",
   "id": "47228aaf",
   "metadata": {},
   "source": [
    "I searched for all currencies's exchange rates and now I'm going to create a DataFrame with those currencies:"
   ]
  },
  {
   "cell_type": "code",
   "execution_count": 261,
   "id": "4ad63bf9",
   "metadata": {},
   "outputs": [],
   "source": [
    "rates = {'Currency': ['USD', 'GBP', 'CAD','EUR', 'AUD/NZD', 'CHF', 'ZAR', 'SEK', 'HKD', 'JPY'],\n",
    "        'Rate': [1,1.332195,0.790515, 1.120805, 0.953825178, 1.068555, 0.062795,0.110174, 0.12826, 0.008669]}\n",
    "\n",
    "data_rates = pd.DataFrame(rates)\n",
    "\n",
    "# join togeher two dataframes\n",
    "new_data = pd.merge(data, data_rates, how='left')\n",
    "\n",
    "# add a new column - Salary (USD)\n",
    "new_data['Salary (USD)'] = new_data['Annual salary']*new_data['Rate']\n",
    "new_data['Salary (USD)'] = new_data['Salary (USD)'].astype(int)"
   ]
  },
  {
   "cell_type": "markdown",
   "id": "22a63286",
   "metadata": {},
   "source": [
    "## Clean dataset, ready for data visualization and data analysis."
   ]
  },
  {
   "cell_type": "code",
   "execution_count": 265,
   "id": "17346b8b",
   "metadata": {},
   "outputs": [],
   "source": [
    "clear_data = new_data.to_csv('AskaManager_clean.csv', index_label=False)\n",
    "\n",
    "# cleared_data.to_parquet('cleared_data.parquet.gzip', compression='gzip')"
   ]
  }
 ],
 "metadata": {
  "kernelspec": {
   "display_name": "Python 3 (ipykernel)",
   "language": "python",
   "name": "python3"
  },
  "language_info": {
   "codemirror_mode": {
    "name": "ipython",
    "version": 3
   },
   "file_extension": ".py",
   "mimetype": "text/x-python",
   "name": "python",
   "nbconvert_exporter": "python",
   "pygments_lexer": "ipython3",
   "version": "3.9.4"
  }
 },
 "nbformat": 4,
 "nbformat_minor": 5
}
